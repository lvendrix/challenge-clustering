{
 "cells": [
  {
   "cell_type": "markdown",
   "id": "fda555a4",
   "metadata": {},
   "source": [
    "## Importing libraries"
   ]
  },
  {
   "cell_type": "code",
   "execution_count": 1,
   "id": "1fbf11dc",
   "metadata": {},
   "outputs": [],
   "source": [
    "# Importing libaries\n",
    "import numpy as np\n",
    "import pandas as pd\n",
    "import seaborn as sns\n",
    "import matplotlib.pyplot as plt\n",
    "import plotly.express as px\n",
    "import matplotlib.pyplot as plt\n",
    "import seaborn as sns\n",
    "import operator\n",
    "from itertools import combinations"
   ]
  },
  {
   "cell_type": "code",
   "execution_count": 2,
   "id": "fe9ef8e2",
   "metadata": {},
   "outputs": [],
   "source": [
    "# Importing Clusterling/ML libaries\n",
    "from sklearn.metrics import silhouette_score\n",
    "from sklearn.cluster import KMeans\n",
    "from sklearn.preprocessing import StandardScaler\n",
    "from sklearn import preprocessing\n",
    "from yellowbrick.cluster import SilhouetteVisualizer"
   ]
  },
  {
   "cell_type": "code",
   "execution_count": 3,
   "id": "bb3526a6",
   "metadata": {},
   "outputs": [
    {
     "ename": "FileNotFoundError",
     "evalue": "[Errno 2] No such file or directory: 'data_bearings_classification.csv'",
     "output_type": "error",
     "traceback": [
      "\u001b[0;31m---------------------------------------------------------------------------\u001b[0m",
      "\u001b[0;31mFileNotFoundError\u001b[0m                         Traceback (most recent call last)",
      "\u001b[0;32m<ipython-input-3-6361eb14eff1>\u001b[0m in \u001b[0;36m<module>\u001b[0;34m\u001b[0m\n\u001b[1;32m      1\u001b[0m \u001b[0;31m# Importing csv\u001b[0m\u001b[0;34m\u001b[0m\u001b[0;34m\u001b[0m\u001b[0;34m\u001b[0m\u001b[0m\n\u001b[0;32m----> 2\u001b[0;31m \u001b[0mbearing\u001b[0m \u001b[0;34m=\u001b[0m \u001b[0mpd\u001b[0m\u001b[0;34m.\u001b[0m\u001b[0mread_csv\u001b[0m\u001b[0;34m(\u001b[0m\u001b[0;34m'data_bearings_classification.csv'\u001b[0m\u001b[0;34m)\u001b[0m\u001b[0;34m\u001b[0m\u001b[0;34m\u001b[0m\u001b[0m\n\u001b[0m\u001b[1;32m      3\u001b[0m \u001b[0mbearing\u001b[0m\u001b[0;34m.\u001b[0m\u001b[0mhead\u001b[0m\u001b[0;34m(\u001b[0m\u001b[0;34m)\u001b[0m\u001b[0;34m\u001b[0m\u001b[0;34m\u001b[0m\u001b[0m\n",
      "\u001b[0;32m/opt/anaconda3/lib/python3.8/site-packages/pandas/io/parsers.py\u001b[0m in \u001b[0;36mread_csv\u001b[0;34m(filepath_or_buffer, sep, delimiter, header, names, index_col, usecols, squeeze, prefix, mangle_dupe_cols, dtype, engine, converters, true_values, false_values, skipinitialspace, skiprows, skipfooter, nrows, na_values, keep_default_na, na_filter, verbose, skip_blank_lines, parse_dates, infer_datetime_format, keep_date_col, date_parser, dayfirst, cache_dates, iterator, chunksize, compression, thousands, decimal, lineterminator, quotechar, quoting, doublequote, escapechar, comment, encoding, dialect, error_bad_lines, warn_bad_lines, delim_whitespace, low_memory, memory_map, float_precision, storage_options)\u001b[0m\n\u001b[1;32m    608\u001b[0m     \u001b[0mkwds\u001b[0m\u001b[0;34m.\u001b[0m\u001b[0mupdate\u001b[0m\u001b[0;34m(\u001b[0m\u001b[0mkwds_defaults\u001b[0m\u001b[0;34m)\u001b[0m\u001b[0;34m\u001b[0m\u001b[0;34m\u001b[0m\u001b[0m\n\u001b[1;32m    609\u001b[0m \u001b[0;34m\u001b[0m\u001b[0m\n\u001b[0;32m--> 610\u001b[0;31m     \u001b[0;32mreturn\u001b[0m \u001b[0m_read\u001b[0m\u001b[0;34m(\u001b[0m\u001b[0mfilepath_or_buffer\u001b[0m\u001b[0;34m,\u001b[0m \u001b[0mkwds\u001b[0m\u001b[0;34m)\u001b[0m\u001b[0;34m\u001b[0m\u001b[0;34m\u001b[0m\u001b[0m\n\u001b[0m\u001b[1;32m    611\u001b[0m \u001b[0;34m\u001b[0m\u001b[0m\n\u001b[1;32m    612\u001b[0m \u001b[0;34m\u001b[0m\u001b[0m\n",
      "\u001b[0;32m/opt/anaconda3/lib/python3.8/site-packages/pandas/io/parsers.py\u001b[0m in \u001b[0;36m_read\u001b[0;34m(filepath_or_buffer, kwds)\u001b[0m\n\u001b[1;32m    460\u001b[0m \u001b[0;34m\u001b[0m\u001b[0m\n\u001b[1;32m    461\u001b[0m     \u001b[0;31m# Create the parser.\u001b[0m\u001b[0;34m\u001b[0m\u001b[0;34m\u001b[0m\u001b[0;34m\u001b[0m\u001b[0m\n\u001b[0;32m--> 462\u001b[0;31m     \u001b[0mparser\u001b[0m \u001b[0;34m=\u001b[0m \u001b[0mTextFileReader\u001b[0m\u001b[0;34m(\u001b[0m\u001b[0mfilepath_or_buffer\u001b[0m\u001b[0;34m,\u001b[0m \u001b[0;34m**\u001b[0m\u001b[0mkwds\u001b[0m\u001b[0;34m)\u001b[0m\u001b[0;34m\u001b[0m\u001b[0;34m\u001b[0m\u001b[0m\n\u001b[0m\u001b[1;32m    463\u001b[0m \u001b[0;34m\u001b[0m\u001b[0m\n\u001b[1;32m    464\u001b[0m     \u001b[0;32mif\u001b[0m \u001b[0mchunksize\u001b[0m \u001b[0;32mor\u001b[0m \u001b[0miterator\u001b[0m\u001b[0;34m:\u001b[0m\u001b[0;34m\u001b[0m\u001b[0;34m\u001b[0m\u001b[0m\n",
      "\u001b[0;32m/opt/anaconda3/lib/python3.8/site-packages/pandas/io/parsers.py\u001b[0m in \u001b[0;36m__init__\u001b[0;34m(self, f, engine, **kwds)\u001b[0m\n\u001b[1;32m    817\u001b[0m             \u001b[0mself\u001b[0m\u001b[0;34m.\u001b[0m\u001b[0moptions\u001b[0m\u001b[0;34m[\u001b[0m\u001b[0;34m\"has_index_names\"\u001b[0m\u001b[0;34m]\u001b[0m \u001b[0;34m=\u001b[0m \u001b[0mkwds\u001b[0m\u001b[0;34m[\u001b[0m\u001b[0;34m\"has_index_names\"\u001b[0m\u001b[0;34m]\u001b[0m\u001b[0;34m\u001b[0m\u001b[0;34m\u001b[0m\u001b[0m\n\u001b[1;32m    818\u001b[0m \u001b[0;34m\u001b[0m\u001b[0m\n\u001b[0;32m--> 819\u001b[0;31m         \u001b[0mself\u001b[0m\u001b[0;34m.\u001b[0m\u001b[0m_engine\u001b[0m \u001b[0;34m=\u001b[0m \u001b[0mself\u001b[0m\u001b[0;34m.\u001b[0m\u001b[0m_make_engine\u001b[0m\u001b[0;34m(\u001b[0m\u001b[0mself\u001b[0m\u001b[0;34m.\u001b[0m\u001b[0mengine\u001b[0m\u001b[0;34m)\u001b[0m\u001b[0;34m\u001b[0m\u001b[0;34m\u001b[0m\u001b[0m\n\u001b[0m\u001b[1;32m    820\u001b[0m \u001b[0;34m\u001b[0m\u001b[0m\n\u001b[1;32m    821\u001b[0m     \u001b[0;32mdef\u001b[0m \u001b[0mclose\u001b[0m\u001b[0;34m(\u001b[0m\u001b[0mself\u001b[0m\u001b[0;34m)\u001b[0m\u001b[0;34m:\u001b[0m\u001b[0;34m\u001b[0m\u001b[0;34m\u001b[0m\u001b[0m\n",
      "\u001b[0;32m/opt/anaconda3/lib/python3.8/site-packages/pandas/io/parsers.py\u001b[0m in \u001b[0;36m_make_engine\u001b[0;34m(self, engine)\u001b[0m\n\u001b[1;32m   1048\u001b[0m             )\n\u001b[1;32m   1049\u001b[0m         \u001b[0;31m# error: Too many arguments for \"ParserBase\"\u001b[0m\u001b[0;34m\u001b[0m\u001b[0;34m\u001b[0m\u001b[0;34m\u001b[0m\u001b[0m\n\u001b[0;32m-> 1050\u001b[0;31m         \u001b[0;32mreturn\u001b[0m \u001b[0mmapping\u001b[0m\u001b[0;34m[\u001b[0m\u001b[0mengine\u001b[0m\u001b[0;34m]\u001b[0m\u001b[0;34m(\u001b[0m\u001b[0mself\u001b[0m\u001b[0;34m.\u001b[0m\u001b[0mf\u001b[0m\u001b[0;34m,\u001b[0m \u001b[0;34m**\u001b[0m\u001b[0mself\u001b[0m\u001b[0;34m.\u001b[0m\u001b[0moptions\u001b[0m\u001b[0;34m)\u001b[0m  \u001b[0;31m# type: ignore[call-arg]\u001b[0m\u001b[0;34m\u001b[0m\u001b[0;34m\u001b[0m\u001b[0m\n\u001b[0m\u001b[1;32m   1051\u001b[0m \u001b[0;34m\u001b[0m\u001b[0m\n\u001b[1;32m   1052\u001b[0m     \u001b[0;32mdef\u001b[0m \u001b[0m_failover_to_python\u001b[0m\u001b[0;34m(\u001b[0m\u001b[0mself\u001b[0m\u001b[0;34m)\u001b[0m\u001b[0;34m:\u001b[0m\u001b[0;34m\u001b[0m\u001b[0;34m\u001b[0m\u001b[0m\n",
      "\u001b[0;32m/opt/anaconda3/lib/python3.8/site-packages/pandas/io/parsers.py\u001b[0m in \u001b[0;36m__init__\u001b[0;34m(self, src, **kwds)\u001b[0m\n\u001b[1;32m   1865\u001b[0m \u001b[0;34m\u001b[0m\u001b[0m\n\u001b[1;32m   1866\u001b[0m         \u001b[0;31m# open handles\u001b[0m\u001b[0;34m\u001b[0m\u001b[0;34m\u001b[0m\u001b[0;34m\u001b[0m\u001b[0m\n\u001b[0;32m-> 1867\u001b[0;31m         \u001b[0mself\u001b[0m\u001b[0;34m.\u001b[0m\u001b[0m_open_handles\u001b[0m\u001b[0;34m(\u001b[0m\u001b[0msrc\u001b[0m\u001b[0;34m,\u001b[0m \u001b[0mkwds\u001b[0m\u001b[0;34m)\u001b[0m\u001b[0;34m\u001b[0m\u001b[0;34m\u001b[0m\u001b[0m\n\u001b[0m\u001b[1;32m   1868\u001b[0m         \u001b[0;32massert\u001b[0m \u001b[0mself\u001b[0m\u001b[0;34m.\u001b[0m\u001b[0mhandles\u001b[0m \u001b[0;32mis\u001b[0m \u001b[0;32mnot\u001b[0m \u001b[0;32mNone\u001b[0m\u001b[0;34m\u001b[0m\u001b[0;34m\u001b[0m\u001b[0m\n\u001b[1;32m   1869\u001b[0m         \u001b[0;32mfor\u001b[0m \u001b[0mkey\u001b[0m \u001b[0;32min\u001b[0m \u001b[0;34m(\u001b[0m\u001b[0;34m\"storage_options\"\u001b[0m\u001b[0;34m,\u001b[0m \u001b[0;34m\"encoding\"\u001b[0m\u001b[0;34m,\u001b[0m \u001b[0;34m\"memory_map\"\u001b[0m\u001b[0;34m,\u001b[0m \u001b[0;34m\"compression\"\u001b[0m\u001b[0;34m)\u001b[0m\u001b[0;34m:\u001b[0m\u001b[0;34m\u001b[0m\u001b[0;34m\u001b[0m\u001b[0m\n",
      "\u001b[0;32m/opt/anaconda3/lib/python3.8/site-packages/pandas/io/parsers.py\u001b[0m in \u001b[0;36m_open_handles\u001b[0;34m(self, src, kwds)\u001b[0m\n\u001b[1;32m   1360\u001b[0m         \u001b[0mLet\u001b[0m \u001b[0mthe\u001b[0m \u001b[0mreaders\u001b[0m \u001b[0mopen\u001b[0m \u001b[0mIOHanldes\u001b[0m \u001b[0mafter\u001b[0m \u001b[0mthey\u001b[0m \u001b[0mare\u001b[0m \u001b[0mdone\u001b[0m \u001b[0;32mwith\u001b[0m \u001b[0mtheir\u001b[0m \u001b[0mpotential\u001b[0m \u001b[0mraises\u001b[0m\u001b[0;34m.\u001b[0m\u001b[0;34m\u001b[0m\u001b[0;34m\u001b[0m\u001b[0m\n\u001b[1;32m   1361\u001b[0m         \"\"\"\n\u001b[0;32m-> 1362\u001b[0;31m         self.handles = get_handle(\n\u001b[0m\u001b[1;32m   1363\u001b[0m             \u001b[0msrc\u001b[0m\u001b[0;34m,\u001b[0m\u001b[0;34m\u001b[0m\u001b[0;34m\u001b[0m\u001b[0m\n\u001b[1;32m   1364\u001b[0m             \u001b[0;34m\"r\"\u001b[0m\u001b[0;34m,\u001b[0m\u001b[0;34m\u001b[0m\u001b[0;34m\u001b[0m\u001b[0m\n",
      "\u001b[0;32m/opt/anaconda3/lib/python3.8/site-packages/pandas/io/common.py\u001b[0m in \u001b[0;36mget_handle\u001b[0;34m(path_or_buf, mode, encoding, compression, memory_map, is_text, errors, storage_options)\u001b[0m\n\u001b[1;32m    640\u001b[0m                 \u001b[0merrors\u001b[0m \u001b[0;34m=\u001b[0m \u001b[0;34m\"replace\"\u001b[0m\u001b[0;34m\u001b[0m\u001b[0;34m\u001b[0m\u001b[0m\n\u001b[1;32m    641\u001b[0m             \u001b[0;31m# Encoding\u001b[0m\u001b[0;34m\u001b[0m\u001b[0;34m\u001b[0m\u001b[0;34m\u001b[0m\u001b[0m\n\u001b[0;32m--> 642\u001b[0;31m             handle = open(\n\u001b[0m\u001b[1;32m    643\u001b[0m                 \u001b[0mhandle\u001b[0m\u001b[0;34m,\u001b[0m\u001b[0;34m\u001b[0m\u001b[0;34m\u001b[0m\u001b[0m\n\u001b[1;32m    644\u001b[0m                 \u001b[0mioargs\u001b[0m\u001b[0;34m.\u001b[0m\u001b[0mmode\u001b[0m\u001b[0;34m,\u001b[0m\u001b[0;34m\u001b[0m\u001b[0;34m\u001b[0m\u001b[0m\n",
      "\u001b[0;31mFileNotFoundError\u001b[0m: [Errno 2] No such file or directory: 'data_bearings_classification.csv'"
     ]
    }
   ],
   "source": [
    "# Importing csv\n",
    "bearing = pd.read_csv('data_bearings_classification.csv')\n",
    "bearing.head()"
   ]
  },
  {
   "cell_type": "markdown",
   "id": "c6e839ac",
   "metadata": {},
   "source": [
    "'Formatting' the dataframe"
   ]
  },
  {
   "cell_type": "code",
   "execution_count": null,
   "id": "a2bcc42c",
   "metadata": {},
   "outputs": [],
   "source": [
    "# Only keeping faulty bearings (status=0)\n",
    "bearing = bearing[bearing['status'] == 0]\n",
    "bearing = bearing.reset_index(drop=True)"
   ]
  },
  {
   "cell_type": "code",
   "execution_count": null,
   "id": "5e8996a4",
   "metadata": {},
   "outputs": [],
   "source": [
    "# Removing status and bearing_id columns. Fixing spelling mistake in one column name. Also dropping rpm_mean as hz_mean has the same values.\n",
    "df = bearing.drop(['status','bearing_id','rpm_mean'], 1)\n",
    "df = df.rename(columns={'a1_x_ff_range': 'a1_x_fft_range'})"
   ]
  },
  {
   "cell_type": "code",
   "execution_count": null,
   "id": "98d9e1ca",
   "metadata": {},
   "outputs": [],
   "source": [
    "# Normalizing the dataframe (0-1). Required step for KMeans\n",
    "x = df.values\n",
    "min_max_scaler = preprocessing.MinMaxScaler()\n",
    "x_scaled = min_max_scaler.fit_transform(x)\n",
    "df_normalized = pd.DataFrame(x_scaled, columns=df.columns, index=df.index)"
   ]
  },
  {
   "cell_type": "code",
   "execution_count": null,
   "id": "946ffc2d",
   "metadata": {},
   "outputs": [],
   "source": [
    "df_normalized.head()"
   ]
  },
  {
   "cell_type": "code",
   "execution_count": null,
   "id": "6b6f66a9",
   "metadata": {},
   "outputs": [],
   "source": [
    "# Starting with only the 'mean' columns\n",
    "df_mean_normalized = df_normalized.iloc[:, 0: 8]\n",
    "df_mean_normalized.head()"
   ]
  },
  {
   "cell_type": "markdown",
   "id": "23f24a90",
   "metadata": {},
   "source": [
    "## Clustering"
   ]
  },
  {
   "cell_type": "code",
   "execution_count": null,
   "id": "660aca3f",
   "metadata": {},
   "outputs": [],
   "source": [
    "# Having a quick look at relation between all variables of the 'mean' category. If we add all features, too much information.\n",
    "fig = px.scatter_matrix((df_mean_normalized),\n",
    "width=1200, height=1600)\n",
    "fig.show()"
   ]
  },
  {
   "cell_type": "markdown",
   "id": "110a4d54",
   "metadata": {},
   "source": [
    "We can see interesting patterns and possible clusters. Especially when including a2_x_mean."
   ]
  },
  {
   "cell_type": "markdown",
   "id": "1cdba854",
   "metadata": {},
   "source": [
    "In order to find the best 2 features to create clusters, we'll create functions to loop over all possible combinations and by looking at the silhouette score, we'll know which combinations of features to use to cluster."
   ]
  },
  {
   "cell_type": "code",
   "execution_count": null,
   "id": "b122cb64",
   "metadata": {},
   "outputs": [],
   "source": [
    "# Creates a list with tuples of all combinations possible of features of a dataframe. Required = dataframe, number_of_features\n",
    "# Return a list with all combinations possible (list_combinations)\n",
    "def combination_features(df, number_features):\n",
    "    list_combinations = []\n",
    "    A = list(df.columns)\n",
    "    temp = combinations(A, number_features)\n",
    "    for i in list(temp):\n",
    "        list_combinations.append(i)\n",
    "    return list_combinations"
   ]
  },
  {
   "cell_type": "code",
   "execution_count": null,
   "id": "ef61615d",
   "metadata": {},
   "outputs": [],
   "source": [
    "# Will return a dictionary with the top 10 combinations of features based on silhouette score.\n",
    "# Take the following arguments: dataframe, list_of_combinations, max_number_clusters and random_state\n",
    "def score_features(df, list_combinations, max_number_clusters, random_state):\n",
    "    score_dict = dict()\n",
    "    for combination in list_combinations:\n",
    "        #print(combination, list(combination), combination[index], list_combinations[index], list(list_combinations[index]))\n",
    "        X = df[list(combination)]\n",
    "        for n in range(2, max_number_clusters+1):\n",
    "            kmeans = KMeans(n_clusters=n, init='k-means++', n_init=100, random_state=random_state).fit(X)\n",
    "            score = silhouette_score(X, kmeans.labels_, metric='euclidean')\n",
    "            score_dict[combination, n] = score\n",
    "    score_dict_desc = sorted(score_dict.items(),key=operator.itemgetter(1),reverse=True)\n",
    "    return score_dict_desc[0:10]"
   ]
  },
  {
   "cell_type": "code",
   "execution_count": null,
   "id": "6e90b214",
   "metadata": {},
   "outputs": [],
   "source": [
    "def plot_features(df, dictionary):\n",
    "    X = df[list(dictionary[0][0][0])]\n",
    "    number_clusters = dictionary[0][0][1]\n",
    "    kmeans = KMeans(n_clusters=number_clusters, init=\"k-means++\",n_init=100, tol=1e-04, random_state=42)\n",
    "    kmeans.fit(X)\n",
    "    score = silhouette_score(X, kmeans.labels_, metric='euclidean')\n",
    "    clusters=pd.DataFrame(X,columns=df.columns)\n",
    "    clusters['label']=kmeans.labels_\n",
    "    number_of_features = len(list(dictionary[0][0][0]))\n",
    "    \n",
    "    if number_of_features == 2:\n",
    "        fig1 = px.scatter(clusters, x=dictionary[0][0][0][0], y=dictionary[0][0][0][1], color='label')\n",
    "        fig1.update_layout(title=f\"{dictionary[0][0][0][0]} vs {dictionary[0][0][0][1]} with {number_clusters} clusters and s-score = {round(score,3)}\")\n",
    "        fig1.show()\n",
    "    elif number_of_features == 3:\n",
    "        fig2 = px.scatter_3d(clusters, x=dictionary[0][0][0][0], y=dictionary[0][0][0][1], z=dictionary[0][0][0][2], color = 'label',symbol='label')\n",
    "        fig2.update_layout(title=f\"{dictionary[0][0][0][0]} vs {dictionary[0][0][0][1]} vs {dictionary[0][0][0][2]} with {number_clusters} clusters and s-score = {round(score,3)}\")\n",
    "        fig2.show()\n",
    "    else:\n",
    "        print(\"Can't see more than 3d\")\n",
    "        \n",
    "    visualizer = SilhouetteVisualizer(kmeans, colors='yellowbrick')\n",
    "    visualizer.fit(X)\n",
    "    visualizer.show()"
   ]
  },
  {
   "cell_type": "code",
   "execution_count": null,
   "id": "81a3c5d2",
   "metadata": {},
   "outputs": [],
   "source": [
    "list_combinations = combination_features(df_mean_normalized,6)"
   ]
  },
  {
   "cell_type": "code",
   "execution_count": null,
   "id": "653c6644",
   "metadata": {},
   "outputs": [],
   "source": [
    "features_dict_top_10 = score_features(df_mean_normalized, list_combinations, 5, 42)"
   ]
  },
  {
   "cell_type": "code",
   "execution_count": null,
   "id": "649b2448",
   "metadata": {},
   "outputs": [],
   "source": [
    "features_dict_top_10"
   ]
  },
  {
   "cell_type": "code",
   "execution_count": null,
   "id": "dbf67dd4",
   "metadata": {},
   "outputs": [],
   "source": [
    "plot_features(df_mean_normalized, features_dict_top_10)"
   ]
  },
  {
   "cell_type": "code",
   "execution_count": null,
   "id": "23b5e3b8",
   "metadata": {},
   "outputs": [],
   "source": [
    "df_mean_3d = df_mean_normalized[['hz_mean',\"a2_x_mean\",\"a2_z_mean\"]]"
   ]
  },
  {
   "cell_type": "code",
   "execution_count": null,
   "id": "1de3c18a",
   "metadata": {},
   "outputs": [],
   "source": [
    "kmeans = KMeans(n_clusters=3, init=\"k-means++\",n_init=100, tol=1e-04, random_state=42)\n",
    "X = df_mean_3d\n",
    "kmeans.fit(X)\n",
    "clusters=pd.DataFrame(X,columns=df_mean_3d.columns)\n",
    "clusters['label']=kmeans.labels_\n",
    "score = silhouette_score(df_mean_3d, kmeans.labels_, metric='euclidean')\n",
    "fig3 = px.scatter_3d(clusters, x='hz_mean', y=\"a2_x_mean\", z=\"a2_z_mean\", color = 'label',symbol='label')\n",
    "fig3.update_layout(title=f\"'hz_mean' vs 'a2_x_mean' vs 'a2_z_mean' with 3 clusters and s-score = {round(score,2)}\")\n",
    "fig3.show()\n"
   ]
  },
  {
   "cell_type": "code",
   "execution_count": null,
   "id": "f5e60728",
   "metadata": {},
   "outputs": [],
   "source": [
    "#df_mean_normalized_no_outliers = df_mean_normalized[df_mean_normalized['a2_y_mean']>.5]"
   ]
  }
 ],
 "metadata": {
  "kernelspec": {
   "display_name": "Python 3",
   "language": "python",
   "name": "python3"
  },
  "language_info": {
   "codemirror_mode": {
    "name": "ipython",
    "version": 3
   },
   "file_extension": ".py",
   "mimetype": "text/x-python",
   "name": "python",
   "nbconvert_exporter": "python",
   "pygments_lexer": "ipython3",
   "version": "3.8.8"
  }
 },
 "nbformat": 4,
 "nbformat_minor": 5
}
